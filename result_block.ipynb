{
 "cells": [
  {
   "cell_type": "code",
   "execution_count": 2,
   "metadata": {},
   "outputs": [
    {
     "name": "stdout",
     "output_type": "stream",
     "text": [
      "成功读取文件：/root/retro_synthesis/aizynthfinder/data/zinc_stock_17_04_20.hdf5\n",
      "数据形状：(17422831, 1)\n"
     ]
    },
    {
     "data": {
      "application/vnd.microsoft.datawrangler.viewer.v0+json": {
       "columns": [
        {
         "name": "index",
         "rawType": "int64",
         "type": "integer"
        },
        {
         "name": "inchi_key",
         "rawType": "object",
         "type": "string"
        }
       ],
       "ref": "e4f7f279-c581-4b3d-a92d-b53f590a8d13",
       "rows": [
        [
         "0",
         "RYYVLZVUVIJVGH-UHFFFAOYSA-N"
        ],
        [
         "1",
         "HZZVJAQRINQKSD-RQJHMYQMSA-N"
        ],
        [
         "2",
         "RRTKVYSLIGQWCO-UHFFFAOYSA-N"
        ],
        [
         "3",
         "YAPQBXQYLJRXSA-UHFFFAOYSA-N"
        ],
        [
         "4",
         "SZPBAPFUXAADQV-UHFFFAOYSA-N"
        ]
       ],
       "shape": {
        "columns": 1,
        "rows": 5
       }
      },
      "text/html": [
       "<div>\n",
       "<style scoped>\n",
       "    .dataframe tbody tr th:only-of-type {\n",
       "        vertical-align: middle;\n",
       "    }\n",
       "\n",
       "    .dataframe tbody tr th {\n",
       "        vertical-align: top;\n",
       "    }\n",
       "\n",
       "    .dataframe thead th {\n",
       "        text-align: right;\n",
       "    }\n",
       "</style>\n",
       "<table border=\"1\" class=\"dataframe\">\n",
       "  <thead>\n",
       "    <tr style=\"text-align: right;\">\n",
       "      <th></th>\n",
       "      <th>inchi_key</th>\n",
       "    </tr>\n",
       "  </thead>\n",
       "  <tbody>\n",
       "    <tr>\n",
       "      <th>0</th>\n",
       "      <td>RYYVLZVUVIJVGH-UHFFFAOYSA-N</td>\n",
       "    </tr>\n",
       "    <tr>\n",
       "      <th>1</th>\n",
       "      <td>HZZVJAQRINQKSD-RQJHMYQMSA-N</td>\n",
       "    </tr>\n",
       "    <tr>\n",
       "      <th>2</th>\n",
       "      <td>RRTKVYSLIGQWCO-UHFFFAOYSA-N</td>\n",
       "    </tr>\n",
       "    <tr>\n",
       "      <th>3</th>\n",
       "      <td>YAPQBXQYLJRXSA-UHFFFAOYSA-N</td>\n",
       "    </tr>\n",
       "    <tr>\n",
       "      <th>4</th>\n",
       "      <td>SZPBAPFUXAADQV-UHFFFAOYSA-N</td>\n",
       "    </tr>\n",
       "  </tbody>\n",
       "</table>\n",
       "</div>"
      ],
      "text/plain": [
       "                     inchi_key\n",
       "0  RYYVLZVUVIJVGH-UHFFFAOYSA-N\n",
       "1  HZZVJAQRINQKSD-RQJHMYQMSA-N\n",
       "2  RRTKVYSLIGQWCO-UHFFFAOYSA-N\n",
       "3  YAPQBXQYLJRXSA-UHFFFAOYSA-N\n",
       "4  SZPBAPFUXAADQV-UHFFFAOYSA-N"
      ]
     },
     "metadata": {},
     "output_type": "display_data"
    }
   ],
   "source": [
    "stock_file = \"/root/retro_synthesis/aizynthfinder/data/zinc_stock_17_04_20.hdf5\"\n",
    "# 导入必要的库\n",
    "import pandas as pd\n",
    "from aizynthfinder.utils.files import read_datafile\n",
    "from pathlib import Path\n",
    "\n",
    "# 定义 HDF5 文件路径（替换为你的文件实际路径）\n",
    "hdf5_path = Path(stock_file)  \n",
    "\n",
    "# 使用内置函数读取 HDF5 文件\n",
    "try:\n",
    "    # 调用代码库中已实现的 read_datafile 函数\n",
    "    data = read_datafile(hdf5_path)\n",
    "    print(f\"成功读取文件：{hdf5_path}\")\n",
    "    print(f\"数据形状：{data.shape}\")\n",
    "    display(data.head())  # 在 Jupyter 中展示前 5 行数据\n",
    "except Exception as e:\n",
    "    print(f\"读取文件失败：{e}\")\n",
    "\n"
   ]
  },
  {
   "cell_type": "code",
   "execution_count": 5,
   "metadata": {},
   "outputs": [
    {
     "name": "stdout",
     "output_type": "stream",
     "text": [
      "\n",
      "数据列信息：\n",
      "['inchi_key']\n",
      "\n",
      "唯一的 InChI Key 数量：17422831\n",
      "\n",
      "缺失值统计：\n",
      "inchi_key    0\n",
      "dtype: int64\n",
      "\n",
      "数据已保存为 CSV：/root/retro_synthesis/aizynthfinder/data/zinc_stock_17_04_20.csv\n"
     ]
    }
   ],
   "source": [
    "# 进行简单分析（根据文件内容调整）\n",
    "if 'data' in locals():\n",
    "    # 1. 查看数据列信息\n",
    "    print(\"\\n数据列信息：\")\n",
    "    print(data.columns.tolist())\n",
    "    \n",
    "    # 2. 统计唯一值（以 inchi_key 为例，适用于库存文件）\n",
    "    if 'inchi_key' in data.columns:\n",
    "        unique_count = data['inchi_key'].nunique()\n",
    "        print(f\"\\n唯一的 InChI Key 数量：{unique_count}\")\n",
    "    \n",
    "    # 3. 查看缺失值\n",
    "    print(\"\\n缺失值统计：\")\n",
    "    print(data.isnull().sum())\n",
    "    \n",
    "    # 4. 保存为 CSV（可选）\n",
    "    output_csv = hdf5_path.with_suffix(\".csv\")\n",
    "    # data.to_csv(output_csv, index=False)\n",
    "    print(f\"\\n数据已保存为 CSV：{output_csv}\")"
   ]
  },
  {
   "cell_type": "markdown",
   "metadata": {},
   "source": [
    "# 查询速度"
   ]
  },
  {
   "cell_type": "code",
   "execution_count": 13,
   "metadata": {},
   "outputs": [
    {
     "name": "stdout",
     "output_type": "stream",
     "text": [
      "成功加载库存，包含 17422831 个分子\n",
      "从文件加载了 190 个分子\n",
      "随机采样了 100 个分子用于查询\n",
      "成功创建了 100 个有效分子对象\n"
     ]
    }
   ],
   "source": [
    "# 使用100个从原始hdf5文件抽取的分子进行查询，统计总时间，平均时间，以及时间分布直方图\n",
    "# 此举是为了了测试查询一个分子所需的时间，不进行逆合成的预测\n",
    "import time\n",
    "import random\n",
    "import numpy as np\n",
    "import pandas as pd\n",
    "import matplotlib.pyplot as plt\n",
    "from aizynthfinder.context.stock import Stock\n",
    "from aizynthfinder.context.stock.queries import InMemoryInchiKeyQuery\n",
    "from aizynthfinder.chem import Molecule , MoleculeException\n",
    "from rdkit import Chem\n",
    "\n",
    "# 1. 配置参数\n",
    "HDF5_PATH = \"/root/retro_synthesis/aizynthfinder/data/zinc_stock_17_04_20.hdf5\"  # 替换为你的 HDF5 文件路径\n",
    "SAMPLE_SIZE = 100  # 随机采样数量\n",
    "\n",
    "# 2. 加载 HDF5 库存文件\n",
    "stock = Stock()\n",
    "try:\n",
    "    # 创建查询实例（使用 InMemoryInchiKeyQuery 加载 HDF5）\n",
    "    stock_query = InMemoryInchiKeyQuery(path=HDF5_PATH)\n",
    "    # 将查询加载到 Stock 管理器\n",
    "    stock.load(stock_query, \"hdf5_stock\")\n",
    "    stock.select(\"hdf5_stock\")  # 选择使用该库存\n",
    "    print(f\"成功加载库存，包含 {len(stock)} 个分子\")\n",
    "except Exception as e:\n",
    "    print(f\"加载失败: {e}\")\n",
    "    raise\n",
    "\n",
    "# 3. 加载分子\n",
    "file = \"/root/retro_synthesis/retro_star/retro_star/dataset/uspto190_smiles.txt\"\n",
    "with open(file, \"r\") as f:\n",
    "    smiles_list = [line.strip() for line in f if line.strip()]\n",
    "print(f\"从文件加载了 {len(smiles_list)} 个分子\")\n",
    "sampled_molecules = random.sample(smiles_list, min(SAMPLE_SIZE, len(smiles_list)))\n",
    "print(f\"随机采样了 {len(sampled_molecules)} 个分子用于查询\")\n",
    "molecules = []\n",
    "for smi in sampled_molecules:\n",
    "    try:\n",
    "        mol = Molecule(smiles=smi, sanitize=True)\n",
    "        molecules.append(mol)\n",
    "    except MoleculeException as e:\n",
    "        print(f\"无效分子 SMILES: {smi}, 错误: {e}\")\n",
    "print(f\"成功创建了 {len(molecules)} 个有效分子对象\")\n",
    "\n",
    "\n"
   ]
  },
  {
   "cell_type": "code",
   "execution_count": 17,
   "metadata": {},
   "outputs": [
    {
     "name": "stdout",
     "output_type": "stream",
     "text": [
      "查询完成，共 100 个分子\n",
      "其中 0 个分子在库存中\n",
      "查询性能统计 (100 次查询):\n",
      "总时间: 0.2391 毫秒\n",
      "平均时间: 0.0024 毫秒\n",
      "最小时间: 0.0017 毫秒\n",
      "最大时间: 0.0248 毫秒\n"
     ]
    }
   ],
   "source": [
    "\n",
    "# 4. 执行查询并记录时间\n",
    "times = []\n",
    "total_time = 0.0\n",
    "is_in = []\n",
    "for mol in molecules:\n",
    "    start = time.perf_counter()\n",
    "    # 执行 contains 检查\n",
    "    query = mol in stock\n",
    "    is_in.append(query)\n",
    "    end = time.perf_counter()\n",
    "    elapsed = (end - start) * 1000  # 转换为毫秒\n",
    "    times.append(elapsed)\n",
    "    total_time += elapsed\n",
    "print(f\"查询完成，共 {len(molecules)} 个分子\")\n",
    "print(f\"其中 {sum(is_in)} 个分子在库存中\")\n",
    "# 5. 计算统计数据\n",
    "avg_time = total_time / SAMPLE_SIZE\n",
    "min_time = min(times)\n",
    "max_time = max(times)\n",
    "\n",
    "print(f\"查询性能统计 ({SAMPLE_SIZE} 次查询):\")\n",
    "print(f\"总时间: {total_time:.4f} 毫秒\")\n",
    "print(f\"平均时间: {avg_time:.4f} 毫秒\")\n",
    "print(f\"最小时间: {min_time:.4f} 毫秒\")\n",
    "print(f\"最大时间: {max_time:.4f} 毫秒\")\n",
    "\n"
   ]
  },
  {
   "cell_type": "code",
   "execution_count": 16,
   "metadata": {},
   "outputs": [
    {
     "data": {
      "image/png": "[encoded data removed]",
      "text/plain": [
       "<Figure size 1000x600 with 1 Axes>"
      ]
     },
     "metadata": {},
     "output_type": "display_data"
    }
   ],
   "source": [
    "# 6. 绘制时间分布直方图\n",
    "plt.figure(figsize=(10, 6))\n",
    "plt.hist(times, bins=15, color='skyblue', edgecolor='black')\n",
    "plt.title(f'{SAMPLE_SIZE} times for search in stock file (ms)', fontsize=14)\n",
    "plt.xlabel('query time (ms)', fontsize=12)\n",
    "plt.ylabel('frequency', fontsize=12)\n",
    "plt.grid(alpha=0.3)\n",
    "plt.axvline(avg_time, color='red', linestyle='--', label=f'平均值: {avg_time:.4f} ms')\n",
    "plt.legend()\n",
    "plt.show()"
   ]
  }
 ],
 "metadata": {
  "kernelspec": {
   "display_name": "aisynthia3",
   "language": "python",
   "name": "python3"
  },
  "language_info": {
   "codemirror_mode": {
    "name": "ipython",
    "version": 3
   },
   "file_extension": ".py",
   "mimetype": "text/x-python",
   "name": "python",
   "nbconvert_exporter": "python",
   "pygments_lexer": "ipython3",
   "version": "3.10.18"
  }
 },
 "nbformat": 4,
 "nbformat_minor": 2
}
